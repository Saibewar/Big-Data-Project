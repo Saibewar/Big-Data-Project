{
  "cells": [
    {
      "cell_type": "code",
      "execution_count": null,
      "metadata": {
        "colab": {
          "base_uri": "https://localhost:8080/"
        },
        "id": "kugzTP5eUnSX",
        "outputId": "c86e2214-d087-4b29-a847-0a9ae5c02527"
      },
      "outputs": [
        {
          "output_type": "stream",
          "name": "stdout",
          "text": [
            "Looking in indexes: https://pypi.org/simple, https://us-python.pkg.dev/colab-wheels/public/simple/\n",
            "Requirement already satisfied: pyspark in /usr/local/lib/python3.7/dist-packages (3.2.1)\n",
            "Requirement already satisfied: py4j==0.10.9.3 in /usr/local/lib/python3.7/dist-packages (from pyspark) (0.10.9.3)\n"
          ]
        }
      ],
      "source": [
        "!pip install pyspark"
      ]
    },
    {
      "cell_type": "markdown",
      "metadata": {
        "id": "Qh6zu8fTen-E"
      },
      "source": [
        "Mount on google drive"
      ]
    },
    {
      "cell_type": "code",
      "execution_count": null,
      "metadata": {
        "colab": {
          "base_uri": "https://localhost:8080/"
        },
        "id": "Ju9wScO5bPvP",
        "outputId": "ed749e01-8d1d-453d-f385-e16c0fca5856"
      },
      "outputs": [
        {
          "output_type": "stream",
          "name": "stdout",
          "text": [
            "Drive already mounted at /content/drive; to attempt to forcibly remount, call drive.mount(\"/content/drive\", force_remount=True).\n"
          ]
        }
      ],
      "source": [
        "from google.colab import drive\n",
        "drive.mount('/content/drive')"
      ]
    },
    {
      "cell_type": "markdown",
      "metadata": {
        "id": "GYwUeZU6ucAC"
      },
      "source": [
        "Importing the pyspark sql functions"
      ]
    },
    {
      "cell_type": "code",
      "execution_count": null,
      "metadata": {
        "id": "wwYzQSDyYMo-"
      },
      "outputs": [],
      "source": [
        "from pyspark.sql import Row, SparkSession\n",
        "from pyspark.sql.functions import *\n",
        "import pyspark"
      ]
    },
    {
      "cell_type": "markdown",
      "metadata": {
        "id": "b8mbGKK6ugVO"
      },
      "source": [
        "Importing Numpy, pandas, seaborn and matplotlib for exploratory analysis"
      ]
    },
    {
      "cell_type": "code",
      "execution_count": null,
      "metadata": {
        "id": "T0VqdZgdWZUW"
      },
      "outputs": [],
      "source": [
        "import numpy as np\n",
        "import pandas as pd\n",
        "import seaborn as sns\n",
        "import matplotlib.pyplot as plt"
      ]
    },
    {
      "cell_type": "markdown",
      "metadata": {
        "id": "vi56tGYrfipo"
      },
      "source": [
        "Creating a spark session"
      ]
    },
    {
      "cell_type": "code",
      "execution_count": null,
      "metadata": {
        "id": "KxLdEYgkvY1L"
      },
      "outputs": [],
      "source": [
        "spark = SparkSession \\\n",
        "    .builder \\\n",
        "    .appName(\"project\") \\\n",
        "    .getOrCreate()\n",
        "sc = spark.sparkContext    "
      ]
    },
    {
      "cell_type": "code",
      "execution_count": null,
      "metadata": {
        "id": "aQOFUr4piq1h"
      },
      "outputs": [],
      "source": [
        "from pyspark.sql.functions import col, lower"
      ]
    },
    {
      "cell_type": "markdown",
      "metadata": {
        "id": "gnGbzNamezQc"
      },
      "source": [
        "Read the data file. The dataset has 1.7GB data and the data is from 2001 to present"
      ]
    },
    {
      "cell_type": "code",
      "execution_count": null,
      "metadata": {
        "id": "HcPdJNVPZEsd"
      },
      "outputs": [],
      "source": [
        "crime_data = spark.read.csv('/content/drive/MyDrive/Crimes_-_2001_to_Present (1).csv', inferSchema=True, header=True)"
      ]
    },
    {
      "cell_type": "code",
      "execution_count": null,
      "metadata": {
        "id": "S7cE-b37c9w9",
        "colab": {
          "base_uri": "https://localhost:8080/"
        },
        "outputId": "403b6671-f99c-4393-83b5-126946d1d04b"
      },
      "outputs": [
        {
          "output_type": "execute_result",
          "data": {
            "text/plain": [
              "[Row(ID=10224738, Case Number='HY411648', Date='09/05/2015 01:30:00 PM', Block='043XX S WOOD ST', IUCR='0486', Primary Type='BATTERY', Description='DOMESTIC BATTERY SIMPLE', Location Description='RESIDENCE', Arrest=False, Domestic=True, Beat=924, District=9, Ward=12, Community Area=61, FBI Code='08B', X Coordinate=1165074, Y Coordinate=1875917, Year=2015, Updated On='02/10/2018 03:50:01 PM', Latitude=41.815117282, Longitude=-87.669999562, Location='(41.815117282, -87.669999562)'),\n",
              " Row(ID=10224739, Case Number='HY411615', Date='09/04/2015 11:30:00 AM', Block='008XX N CENTRAL AVE', IUCR='0870', Primary Type='THEFT', Description='POCKET-PICKING', Location Description='CTA BUS', Arrest=False, Domestic=False, Beat=1511, District=15, Ward=29, Community Area=25, FBI Code='06', X Coordinate=1138875, Y Coordinate=1904869, Year=2015, Updated On='02/10/2018 03:50:01 PM', Latitude=41.895080471, Longitude=-87.765400451, Location='(41.895080471, -87.765400451)'),\n",
              " Row(ID=11646166, Case Number='JC213529', Date='09/01/2018 12:01:00 AM', Block='082XX S INGLESIDE AVE', IUCR='0810', Primary Type='THEFT', Description='OVER $500', Location Description='RESIDENCE', Arrest=False, Domestic=True, Beat=631, District=6, Ward=8, Community Area=44, FBI Code='06', X Coordinate=None, Y Coordinate=None, Year=2018, Updated On='04/06/2019 04:04:43 PM', Latitude=None, Longitude=None, Location=None),\n",
              " Row(ID=10224740, Case Number='HY411595', Date='09/05/2015 12:45:00 PM', Block='035XX W BARRY AVE', IUCR='2023', Primary Type='NARCOTICS', Description='POSS: HEROIN(BRN/TAN)', Location Description='SIDEWALK', Arrest=True, Domestic=False, Beat=1412, District=14, Ward=35, Community Area=21, FBI Code='18', X Coordinate=1152037, Y Coordinate=1920384, Year=2015, Updated On='02/10/2018 03:50:01 PM', Latitude=41.937405765, Longitude=-87.716649687, Location='(41.937405765, -87.716649687)'),\n",
              " Row(ID=10224741, Case Number='HY411610', Date='09/05/2015 01:00:00 PM', Block='0000X N LARAMIE AVE', IUCR='0560', Primary Type='ASSAULT', Description='SIMPLE', Location Description='APARTMENT', Arrest=False, Domestic=True, Beat=1522, District=15, Ward=28, Community Area=25, FBI Code='08A', X Coordinate=1141706, Y Coordinate=1900086, Year=2015, Updated On='02/10/2018 03:50:01 PM', Latitude=41.881903443, Longitude=-87.755121152, Location='(41.881903443, -87.755121152)'),\n",
              " Row(ID=10224742, Case Number='HY411435', Date='09/05/2015 10:55:00 AM', Block='082XX S LOOMIS BLVD', IUCR='0610', Primary Type='BURGLARY', Description='FORCIBLE ENTRY', Location Description='RESIDENCE', Arrest=False, Domestic=False, Beat=614, District=6, Ward=21, Community Area=71, FBI Code='05', X Coordinate=1168430, Y Coordinate=1850165, Year=2015, Updated On='02/10/2018 03:50:01 PM', Latitude=41.744378879, Longitude=-87.658430635, Location='(41.744378879, -87.658430635)'),\n",
              " Row(ID=10224743, Case Number='HY411629', Date='09/04/2015 06:00:00 PM', Block='021XX W CHURCHILL ST', IUCR='0620', Primary Type='BURGLARY', Description='UNLAWFUL ENTRY', Location Description='RESIDENCE-GARAGE', Arrest=False, Domestic=False, Beat=1434, District=14, Ward=32, Community Area=24, FBI Code='05', X Coordinate=1161628, Y Coordinate=1912157, Year=2015, Updated On='02/10/2018 03:50:01 PM', Latitude=41.914635603, Longitude=-87.681630909, Location='(41.914635603, -87.681630909)'),\n",
              " Row(ID=10224744, Case Number='HY411605', Date='09/05/2015 01:00:00 PM', Block='025XX W CERMAK RD', IUCR='0860', Primary Type='THEFT', Description='RETAIL THEFT', Location Description='GROCERY FOOD STORE', Arrest=True, Domestic=False, Beat=1034, District=10, Ward=25, Community Area=31, FBI Code='06', X Coordinate=1159734, Y Coordinate=1889313, Year=2015, Updated On='09/17/2015 11:37:18 AM', Latitude=41.851988885, Longitude=-87.689219118, Location='(41.851988885, -87.689219118)'),\n",
              " Row(ID=10224745, Case Number='HY411654', Date='09/05/2015 11:30:00 AM', Block='031XX W WASHINGTON BLVD', IUCR='0320', Primary Type='ROBBERY', Description='STRONGARM - NO WEAPON', Location Description='STREET', Arrest=False, Domestic=True, Beat=1222, District=12, Ward=27, Community Area=27, FBI Code='03', X Coordinate=1155536, Y Coordinate=1900515, Year=2015, Updated On='02/10/2018 03:50:01 PM', Latitude=41.88281374, Longitude=-87.704325717, Location='(41.88281374, -87.704325717)'),\n",
              " Row(ID=11645836, Case Number='JC212333', Date='05/01/2016 12:25:00 AM', Block='055XX S ROCKWELL ST', IUCR='1153', Primary Type='DECEPTIVE PRACTICE', Description='FINANCIAL IDENTITY THEFT OVER $ 300', Location Description=None, Arrest=False, Domestic=False, Beat=824, District=8, Ward=15, Community Area=63, FBI Code='11', X Coordinate=None, Y Coordinate=None, Year=2016, Updated On='04/06/2019 04:04:43 PM', Latitude=None, Longitude=None, Location=None)]"
            ]
          },
          "metadata": {},
          "execution_count": 35
        }
      ],
      "source": [
        "crime_data.take(10)"
      ]
    },
    {
      "cell_type": "markdown",
      "metadata": {
        "id": "bKKd5FWZwgO5"
      },
      "source": [
        "To print the schema in the tree format use printSchema() on the crime dataset"
      ]
    },
    {
      "cell_type": "code",
      "execution_count": null,
      "metadata": {
        "id": "HWvLUBSkkMSJ",
        "colab": {
          "base_uri": "https://localhost:8080/"
        },
        "outputId": "843481df-112b-47eb-98ff-26f412571ee0"
      },
      "outputs": [
        {
          "output_type": "stream",
          "name": "stdout",
          "text": [
            "root\n",
            " |-- ID: integer (nullable = true)\n",
            " |-- Case Number: string (nullable = true)\n",
            " |-- Date: string (nullable = true)\n",
            " |-- Block: string (nullable = true)\n",
            " |-- IUCR: string (nullable = true)\n",
            " |-- Primary Type: string (nullable = true)\n",
            " |-- Description: string (nullable = true)\n",
            " |-- Location Description: string (nullable = true)\n",
            " |-- Arrest: boolean (nullable = true)\n",
            " |-- Domestic: boolean (nullable = true)\n",
            " |-- Beat: integer (nullable = true)\n",
            " |-- District: integer (nullable = true)\n",
            " |-- Ward: integer (nullable = true)\n",
            " |-- Community Area: integer (nullable = true)\n",
            " |-- FBI Code: string (nullable = true)\n",
            " |-- X Coordinate: integer (nullable = true)\n",
            " |-- Y Coordinate: integer (nullable = true)\n",
            " |-- Year: integer (nullable = true)\n",
            " |-- Updated On: string (nullable = true)\n",
            " |-- Latitude: double (nullable = true)\n",
            " |-- Longitude: double (nullable = true)\n",
            " |-- Location: string (nullable = true)\n",
            "\n"
          ]
        }
      ],
      "source": [
        "crime_data.printSchema()"
      ]
    },
    {
      "cell_type": "markdown",
      "metadata": {
        "id": "U5rbMzkvjOXQ"
      },
      "source": [
        "Converted the date column to date time stamp in this 'MM/DD/YYYY HH:MM:SS a' notation so that we can extract the month, year, day of the week, month of the year, day of the month for further calculations"
      ]
    },
    {
      "cell_type": "code",
      "execution_count": null,
      "metadata": {
        "id": "M_atj7fa3W97"
      },
      "outputs": [],
      "source": [
        "crime_data = crime_data.withColumn('DateTimeStamp', to_timestamp('Date', 'MM/dd/yyyy hh:mm:ss a'))\\\n",
        "                      .withColumn('DateFormatted', trunc('DateTimeStamp', 'YYYY')) "
      ]
    },
    {
      "cell_type": "code",
      "execution_count": null,
      "metadata": {
        "id": "g51DYtnJFTHh"
      },
      "outputs": [],
      "source": [
        "crime_data = crime_data.withColumn('dayofweek', dayofweek(crime_data['DateTimeStamp']))\\\n",
        "                 .withColumn('monthOfYear', month(crime_data['DateTimeStamp']))\\\n",
        "                 .withColumn('dayofmonth', dayofmonth(crime_data['DateTimeStamp']))\\\n",
        "                 .withColumn('datediff', datediff(crime_data['DateTimeStamp'], to_date(lit('2001-01-01'), format='yyyy-MM-dd')))\\\n",
        "                 .cache()"
      ]
    },
    {
      "cell_type": "code",
      "execution_count": null,
      "metadata": {
        "id": "H8yrnOeyFh8_",
        "colab": {
          "base_uri": "https://localhost:8080/"
        },
        "outputId": "e4d6e8ce-1dc8-41fe-8582-88a2702e643b"
      },
      "outputs": [
        {
          "output_type": "stream",
          "name": "stdout",
          "text": [
            "+--------------------+-------------+---------+----+-----------+----------+--------+\n",
            "|                Date|DateFormatted|dayofweek|Year|monthOfYear|dayofmonth|datediff|\n",
            "+--------------------+-------------+---------+----+-----------+----------+--------+\n",
            "|09/05/2015 01:30:...|   2015-01-01|        7|2015|          9|         5|    5360|\n",
            "|09/04/2015 11:30:...|   2015-01-01|        6|2015|          9|         4|    5359|\n",
            "|09/05/2015 12:45:...|   2015-01-01|        7|2015|          9|         5|    5360|\n",
            "|09/05/2015 01:00:...|   2015-01-01|        7|2015|          9|         5|    5360|\n",
            "|09/05/2015 10:55:...|   2015-01-01|        7|2015|          9|         5|    5360|\n",
            "+--------------------+-------------+---------+----+-----------+----------+--------+\n",
            "only showing top 5 rows\n",
            "\n"
          ]
        }
      ],
      "source": [
        "crime_data.select(['Date','DateFormatted', 'dayofweek', 'Year', 'monthOfYear', 'dayofmonth', 'datediff']).show(5)"
      ]
    },
    {
      "cell_type": "code",
      "source": [
        "crime_data= crime_data[crime_data['Year'] == 2015]"
      ],
      "metadata": {
        "id": "STTGQH1_F08c"
      },
      "execution_count": null,
      "outputs": []
    },
    {
      "cell_type": "code",
      "execution_count": null,
      "metadata": {
        "id": "92K22UpwqaOD",
        "colab": {
          "base_uri": "https://localhost:8080/"
        },
        "outputId": "48c2e006-2bae-4d01-ab26-991dbd5f3d6e"
      },
      "outputs": [
        {
          "output_type": "execute_result",
          "data": {
            "text/plain": [
              "['ID',\n",
              " 'Case Number',\n",
              " 'Date',\n",
              " 'Block',\n",
              " 'IUCR',\n",
              " 'Primary Type',\n",
              " 'Description',\n",
              " 'Location Description',\n",
              " 'Arrest',\n",
              " 'Domestic',\n",
              " 'Beat',\n",
              " 'District',\n",
              " 'Ward',\n",
              " 'Community Area',\n",
              " 'FBI Code',\n",
              " 'X Coordinate',\n",
              " 'Y Coordinate',\n",
              " 'Year',\n",
              " 'Updated On',\n",
              " 'Latitude',\n",
              " 'Longitude',\n",
              " 'Location',\n",
              " 'DateTimeStamp',\n",
              " 'DateFormatted',\n",
              " 'dayofweek',\n",
              " 'monthOfYear',\n",
              " 'dayofmonth',\n",
              " 'datediff']"
            ]
          },
          "metadata": {},
          "execution_count": 44
        }
      ],
      "source": [
        "crime_data.columns"
      ]
    },
    {
      "cell_type": "code",
      "execution_count": null,
      "metadata": {
        "id": "FrtPTVhOy4UC"
      },
      "outputs": [],
      "source": [
        "crime_data = crime_data.withColumn(\"Arrest\", col(\"Arrest\").cast(StringType()))\n",
        "crime_data = crime_data.withColumn(\"Domestic\", col(\"Domestic\").cast(StringType()))"
      ]
    },
    {
      "cell_type": "code",
      "execution_count": null,
      "metadata": {
        "id": "-Sp1sDq3zNYI",
        "colab": {
          "base_uri": "https://localhost:8080/"
        },
        "outputId": "46abf440-a3b7-41b7-e5e6-dc90af291962"
      },
      "outputs": [
        {
          "output_type": "stream",
          "name": "stdout",
          "text": [
            "root\n",
            " |-- ID: integer (nullable = true)\n",
            " |-- Case Number: string (nullable = true)\n",
            " |-- Date: string (nullable = true)\n",
            " |-- Block: string (nullable = true)\n",
            " |-- IUCR: string (nullable = true)\n",
            " |-- Primary Type: string (nullable = true)\n",
            " |-- Description: string (nullable = true)\n",
            " |-- Location Description: string (nullable = true)\n",
            " |-- Arrest: string (nullable = true)\n",
            " |-- Domestic: string (nullable = true)\n",
            " |-- Beat: integer (nullable = true)\n",
            " |-- District: integer (nullable = true)\n",
            " |-- Ward: integer (nullable = true)\n",
            " |-- Community Area: integer (nullable = true)\n",
            " |-- FBI Code: string (nullable = true)\n",
            " |-- X Coordinate: integer (nullable = true)\n",
            " |-- Y Coordinate: integer (nullable = true)\n",
            " |-- Year: integer (nullable = true)\n",
            " |-- Updated On: string (nullable = true)\n",
            " |-- Latitude: double (nullable = true)\n",
            " |-- Longitude: double (nullable = true)\n",
            " |-- Location: string (nullable = true)\n",
            " |-- DateTimeStamp: timestamp (nullable = true)\n",
            " |-- DateFormatted: date (nullable = true)\n",
            " |-- dayofweek: integer (nullable = true)\n",
            " |-- monthOfYear: integer (nullable = true)\n",
            " |-- dayofmonth: integer (nullable = true)\n",
            " |-- datediff: integer (nullable = true)\n",
            "\n"
          ]
        }
      ],
      "source": [
        "crime_data.printSchema()"
      ]
    },
    {
      "cell_type": "code",
      "execution_count": null,
      "metadata": {
        "id": "rpAXuwG8lUD0",
        "colab": {
          "base_uri": "https://localhost:8080/"
        },
        "outputId": "fb90c67c-c3cc-45bf-e066-8f85e84972d1"
      },
      "outputs": [
        {
          "output_type": "execute_result",
          "data": {
            "text/plain": [
              "['ID',\n",
              " 'Case Number',\n",
              " 'Date',\n",
              " 'Block',\n",
              " 'IUCR',\n",
              " 'Primary Type',\n",
              " 'Description',\n",
              " 'Location Description',\n",
              " 'Arrest',\n",
              " 'Domestic',\n",
              " 'Beat',\n",
              " 'District',\n",
              " 'Ward',\n",
              " 'Community Area',\n",
              " 'FBI Code',\n",
              " 'X Coordinate',\n",
              " 'Y Coordinate',\n",
              " 'Year',\n",
              " 'Updated On',\n",
              " 'Latitude',\n",
              " 'Longitude',\n",
              " 'Location',\n",
              " 'DateTimeStamp',\n",
              " 'DateFormatted',\n",
              " 'dayofweek',\n",
              " 'monthOfYear',\n",
              " 'dayofmonth',\n",
              " 'datediff']"
            ]
          },
          "metadata": {},
          "execution_count": 47
        }
      ],
      "source": [
        "crime_data.columns"
      ]
    },
    {
      "cell_type": "markdown",
      "metadata": {
        "id": "DEYmAUIPrFaf"
      },
      "source": [
        "This section covers algorithms for working with features, roughly divided into these groups:\n",
        "\n",
        "Extraction: Extracting features from “raw” data\n",
        "\n",
        "Selection: Selecting a subset from a larger set of features\n",
        "\n",
        "Transformation: Scaling, converting, or modifying features"
      ]
    },
    {
      "cell_type": "code",
      "execution_count": null,
      "metadata": {
        "id": "xoc-lGLZqq_B"
      },
      "outputs": [],
      "source": [
        "selected_features=['Block','IUCR','Description','Location Description','Arrest','Domestic','Beat','District','Ward','Community Area','FBI Code',\n",
        "                   'Year','Latitude','Longitude','Location','dayofweek','monthOfYear','dayofmonth','datediff']"
      ]
    },
    {
      "cell_type": "code",
      "execution_count": null,
      "metadata": {
        "id": "SRkwl5K8q90o",
        "colab": {
          "base_uri": "https://localhost:8080/"
        },
        "outputId": "c78f70f5-74ab-434d-8f95-cf4e1f82e2e4"
      },
      "outputs": [
        {
          "output_type": "stream",
          "name": "stdout",
          "text": [
            "root\n",
            " |-- Block: string (nullable = true)\n",
            " |-- IUCR: string (nullable = true)\n",
            " |-- Description: string (nullable = true)\n",
            " |-- Location Description: string (nullable = true)\n",
            " |-- Arrest: string (nullable = true)\n",
            " |-- Domestic: string (nullable = true)\n",
            " |-- Beat: integer (nullable = true)\n",
            " |-- District: integer (nullable = true)\n",
            " |-- Ward: integer (nullable = true)\n",
            " |-- Community Area: integer (nullable = true)\n",
            " |-- FBI Code: string (nullable = true)\n",
            " |-- Year: integer (nullable = true)\n",
            " |-- Latitude: double (nullable = true)\n",
            " |-- Longitude: double (nullable = true)\n",
            " |-- Location: string (nullable = true)\n",
            " |-- dayofweek: integer (nullable = true)\n",
            " |-- monthOfYear: integer (nullable = true)\n",
            " |-- dayofmonth: integer (nullable = true)\n",
            " |-- datediff: integer (nullable = true)\n",
            "\n"
          ]
        }
      ],
      "source": [
        "features_df = crime_data.select(selected_features)\n",
        "features_df.printSchema()"
      ]
    },
    {
      "cell_type": "markdown",
      "metadata": {
        "id": "J4CmG7veqioX"
      },
      "source": [
        "Added a for loop to append all the selected features and their counts to a list"
      ]
    },
    {
      "cell_type": "code",
      "execution_count": null,
      "metadata": {
        "id": "SX9DzofirDbJ"
      },
      "outputs": [],
      "source": [
        "feature_list_count = []\n",
        "for feature in selected_features:\n",
        "    feature_name = features_df.select(feature).distinct()\n",
        "    feature_list_count.append({'feature': feature, 'level_count': feature_name.count()})"
      ]
    },
    {
      "cell_type": "markdown",
      "metadata": {
        "id": "ZuZfw7qcbDJ2"
      },
      "source": [
        "Importing String Indexer and Vector Assembler"
      ]
    },
    {
      "cell_type": "code",
      "execution_count": null,
      "metadata": {
        "id": "Q7R8gJVqrMDB"
      },
      "outputs": [],
      "source": [
        "from pyspark.ml.feature import StringIndexer, VectorAssembler"
      ]
    },
    {
      "cell_type": "markdown",
      "metadata": {
        "id": "26Q00UOnoVHR"
      },
      "source": [
        "The selected features were selected from the crime data and if any NA values were there in the dataset. All were dropped."
      ]
    },
    {
      "cell_type": "code",
      "execution_count": null,
      "metadata": {
        "id": "pbYZDtMloGpl"
      },
      "outputs": [],
      "source": [
        "crime_data_features = crime_data.na.drop(subset=selected_features)"
      ]
    },
    {
      "cell_type": "code",
      "execution_count": null,
      "metadata": {
        "id": "E0dJEiSFofrQ",
        "colab": {
          "base_uri": "https://localhost:8080/"
        },
        "outputId": "68df0c9b-e0ed-4d34-8b16-b0aa342a05f3"
      },
      "outputs": [
        {
          "output_type": "execute_result",
          "data": {
            "text/plain": [
              "[Row(ID=10224738, Case Number='HY411648', Date='09/05/2015 01:30:00 PM', Block='043XX S WOOD ST', IUCR='0486', Primary Type='BATTERY', Description='DOMESTIC BATTERY SIMPLE', Location Description='RESIDENCE', Arrest='false', Domestic='true', Beat=924, District=9, Ward=12, Community Area=61, FBI Code='08B', X Coordinate=1165074, Y Coordinate=1875917, Year=2015, Updated On='02/10/2018 03:50:01 PM', Latitude=41.815117282, Longitude=-87.669999562, Location='(41.815117282, -87.669999562)', DateTimeStamp=datetime.datetime(2015, 9, 5, 13, 30), DateFormatted=datetime.date(2015, 1, 1), dayofweek=7, monthOfYear=9, dayofmonth=5, datediff=5360),\n",
              " Row(ID=10224739, Case Number='HY411615', Date='09/04/2015 11:30:00 AM', Block='008XX N CENTRAL AVE', IUCR='0870', Primary Type='THEFT', Description='POCKET-PICKING', Location Description='CTA BUS', Arrest='false', Domestic='false', Beat=1511, District=15, Ward=29, Community Area=25, FBI Code='06', X Coordinate=1138875, Y Coordinate=1904869, Year=2015, Updated On='02/10/2018 03:50:01 PM', Latitude=41.895080471, Longitude=-87.765400451, Location='(41.895080471, -87.765400451)', DateTimeStamp=datetime.datetime(2015, 9, 4, 11, 30), DateFormatted=datetime.date(2015, 1, 1), dayofweek=6, monthOfYear=9, dayofmonth=4, datediff=5359),\n",
              " Row(ID=10224740, Case Number='HY411595', Date='09/05/2015 12:45:00 PM', Block='035XX W BARRY AVE', IUCR='2023', Primary Type='NARCOTICS', Description='POSS: HEROIN(BRN/TAN)', Location Description='SIDEWALK', Arrest='true', Domestic='false', Beat=1412, District=14, Ward=35, Community Area=21, FBI Code='18', X Coordinate=1152037, Y Coordinate=1920384, Year=2015, Updated On='02/10/2018 03:50:01 PM', Latitude=41.937405765, Longitude=-87.716649687, Location='(41.937405765, -87.716649687)', DateTimeStamp=datetime.datetime(2015, 9, 5, 12, 45), DateFormatted=datetime.date(2015, 1, 1), dayofweek=7, monthOfYear=9, dayofmonth=5, datediff=5360),\n",
              " Row(ID=10224741, Case Number='HY411610', Date='09/05/2015 01:00:00 PM', Block='0000X N LARAMIE AVE', IUCR='0560', Primary Type='ASSAULT', Description='SIMPLE', Location Description='APARTMENT', Arrest='false', Domestic='true', Beat=1522, District=15, Ward=28, Community Area=25, FBI Code='08A', X Coordinate=1141706, Y Coordinate=1900086, Year=2015, Updated On='02/10/2018 03:50:01 PM', Latitude=41.881903443, Longitude=-87.755121152, Location='(41.881903443, -87.755121152)', DateTimeStamp=datetime.datetime(2015, 9, 5, 13, 0), DateFormatted=datetime.date(2015, 1, 1), dayofweek=7, monthOfYear=9, dayofmonth=5, datediff=5360),\n",
              " Row(ID=10224742, Case Number='HY411435', Date='09/05/2015 10:55:00 AM', Block='082XX S LOOMIS BLVD', IUCR='0610', Primary Type='BURGLARY', Description='FORCIBLE ENTRY', Location Description='RESIDENCE', Arrest='false', Domestic='false', Beat=614, District=6, Ward=21, Community Area=71, FBI Code='05', X Coordinate=1168430, Y Coordinate=1850165, Year=2015, Updated On='02/10/2018 03:50:01 PM', Latitude=41.744378879, Longitude=-87.658430635, Location='(41.744378879, -87.658430635)', DateTimeStamp=datetime.datetime(2015, 9, 5, 10, 55), DateFormatted=datetime.date(2015, 1, 1), dayofweek=7, monthOfYear=9, dayofmonth=5, datediff=5360)]"
            ]
          },
          "metadata": {},
          "execution_count": 53
        }
      ],
      "source": [
        "crime_data_features.head(5)"
      ]
    },
    {
      "cell_type": "markdown",
      "metadata": {
        "id": "AhPZ-BufoK5c"
      },
      "source": [
        "String indexer is used for converting string columns to numeric columns because the machine learning model is a mathematical equation and accepts numbers.\n"
      ]
    },
    {
      "cell_type": "code",
      "execution_count": null,
      "metadata": {
        "id": "P031aUdwrQ6e"
      },
      "outputs": [],
      "source": [
        "for feature in feature_list_count:\n",
        "    predictor_variables_indexer = StringIndexer(inputCol=feature['feature'], outputCol='%s_indexed' % feature['feature'])\n",
        "    model = predictor_variables_indexer.fit(crime_data_features)\n",
        "    crime_data_features = model.transform(crime_data_features)"
      ]
    },
    {
      "cell_type": "markdown",
      "metadata": {
        "id": "EjgK_woH_JNl"
      },
      "source": [
        "The process is followed similarly for the response variable. where we converted all the string columns to numeric columns because the machine learning model is a mathematical equation and accepts numbers."
      ]
    },
    {
      "cell_type": "code",
      "execution_count": null,
      "metadata": {
        "id": "o7d2Egy50RpG"
      },
      "outputs": [],
      "source": [
        "response_variable_indexer = StringIndexer(inputCol='Primary Type', outputCol='Primary_Type_Of_Crime_indexed')\n",
        "response_model = response_variable_indexer.fit(crime_data_features)\n",
        "crime_data_features = response_model.transform(crime_data_features)"
      ]
    },
    {
      "cell_type": "code",
      "execution_count": null,
      "metadata": {
        "id": "W6PNep890ai1",
        "colab": {
          "base_uri": "https://localhost:8080/"
        },
        "outputId": "761de663-2483-46e3-adc7-db73f24e7f53"
      },
      "outputs": [
        {
          "output_type": "stream",
          "name": "stdout",
          "text": [
            "+--------+-----------+--------------------+-------------------+----+------------+--------------------+--------------------+------+--------+----+--------+----+--------------+--------+------------+------------+----+--------------------+------------+-------------+--------------------+-------------------+-------------+---------+-----------+----------+--------+-------------+------------+-------------------+----------------------------+--------------+----------------+------------+----------------+------------+----------------------+----------------+------------+----------------+-----------------+----------------+-----------------+-------------------+------------------+----------------+-----------------------------+\n",
            "|      ID|Case Number|                Date|              Block|IUCR|Primary Type|         Description|Location Description|Arrest|Domestic|Beat|District|Ward|Community Area|FBI Code|X Coordinate|Y Coordinate|Year|          Updated On|    Latitude|    Longitude|            Location|      DateTimeStamp|DateFormatted|dayofweek|monthOfYear|dayofmonth|datediff|Block_indexed|IUCR_indexed|Description_indexed|Location Description_indexed|Arrest_indexed|Domestic_indexed|Beat_indexed|District_indexed|Ward_indexed|Community Area_indexed|FBI Code_indexed|Year_indexed|Latitude_indexed|Longitude_indexed|Location_indexed|dayofweek_indexed|monthOfYear_indexed|dayofmonth_indexed|datediff_indexed|Primary_Type_Of_Crime_indexed|\n",
            "+--------+-----------+--------------------+-------------------+----+------------+--------------------+--------------------+------+--------+----+--------+----+--------------+--------+------------+------------+----+--------------------+------------+-------------+--------------------+-------------------+-------------+---------+-----------+----------+--------+-------------+------------+-------------------+----------------------------+--------------+----------------+------------+----------------+------------+----------------------+----------------+------------+----------------+-----------------+----------------+-----------------+-------------------+------------------+----------------+-----------------------------+\n",
            "|10224738|   HY411648|09/05/2015 01:30:...|    043XX S WOOD ST|0486|     BATTERY|DOMESTIC BATTERY ...|           RESIDENCE| false|    true| 924|       9|  12|            61|     08B|     1165074|     1875917|2015|02/10/2018 03:50:...|41.815117282|-87.669999562|(41.815117282, -8...|2015-09-05 13:30:00|   2015-01-01|        7|          9|         5|    5360|       2420.0|         0.0|                1.0|                         1.0|           0.0|             1.0|       113.0|             7.0|        34.0|                  19.0|             1.0|         0.0|         16217.0|          16733.0|         16215.0|              1.0|                4.0|              21.0|           108.0|                          1.0|\n",
            "|10224739|   HY411615|09/04/2015 11:30:...|008XX N CENTRAL AVE|0870|       THEFT|      POCKET-PICKING|             CTA BUS| false|   false|1511|      15|  29|            25|      06|     1138875|     1904869|2015|02/10/2018 03:50:...|41.895080471|-87.765400451|(41.895080471, -8...|2015-09-04 11:30:00|   2015-01-01|        6|          9|         4|    5359|       6064.0|        29.0|               28.0|                        26.0|           0.0|             0.0|       121.0|            11.0|        17.0|                   0.0|             0.0|         0.0|         11149.0|          12100.0|         11146.0|              0.0|                4.0|              23.0|            33.0|                          0.0|\n",
            "|10224740|   HY411595|09/05/2015 12:45:...|  035XX W BARRY AVE|2023|   NARCOTICS|POSS: HEROIN(BRN/...|            SIDEWALK|  true|   false|1412|      14|  35|            21|      18|     1152037|     1920384|2015|02/10/2018 03:50:...|41.937405765|-87.716649687|(41.937405765, -8...|2015-09-05 12:45:00|   2015-01-01|        7|          9|         5|    5360|      16191.0|       112.0|              105.0|                         3.0|           1.0|             0.0|       209.0|            17.0|        38.0|                  40.0|             4.0|         0.0|        115366.0|         107175.0|        115384.0|              1.0|                4.0|              21.0|           108.0|                          3.0|\n",
            "|10224741|   HY411610|09/05/2015 01:00:...|0000X N LARAMIE AVE|0560|     ASSAULT|              SIMPLE|           APARTMENT| false|    true|1522|      15|  28|            25|     08A|     1141706|     1900086|2015|02/10/2018 03:50:...|41.881903443|-87.755121152|(41.881903443, -8...|2015-09-05 13:00:00|   2015-01-01|        7|          9|         5|    5360|       1875.0|         6.0|                0.0|                         2.0|           0.0|             1.0|         6.0|            11.0|         0.0|                   0.0|             6.0|         0.0|          7212.0|           7834.0|          7209.0|              1.0|                4.0|              21.0|           108.0|                          5.0|\n",
            "|10224742|   HY411435|09/05/2015 10:55:...|082XX S LOOMIS BLVD|0610|    BURGLARY|      FORCIBLE ENTRY|           RESIDENCE| false|   false| 614|       6|  21|            71|      05|     1168430|     1850165|2015|02/10/2018 03:50:...|41.744378879|-87.658430635|(41.744378879, -8...|2015-09-05 10:55:00|   2015-01-01|        7|          9|         5|    5360|       2864.0|        11.0|               10.0|                         1.0|           0.0|             0.0|       103.0|             2.0|         7.0|                   6.0|             5.0|         0.0|         13448.0|          16024.0|         13445.0|              1.0|                4.0|              21.0|           108.0|                          7.0|\n",
            "+--------+-----------+--------------------+-------------------+----+------------+--------------------+--------------------+------+--------+----+--------+----+--------------+--------+------------+------------+----+--------------------+------------+-------------+--------------------+-------------------+-------------+---------+-----------+----------+--------+-------------+------------+-------------------+----------------------------+--------------+----------------+------------+----------------+------------+----------------------+----------------+------------+----------------+-----------------+----------------+-----------------+-------------------+------------------+----------------+-----------------------------+\n",
            "only showing top 5 rows\n",
            "\n"
          ]
        }
      ],
      "source": [
        "crime_data_features.show(5)"
      ]
    },
    {
      "cell_type": "markdown",
      "source": [
        "Adding all the indexed columns to a list."
      ],
      "metadata": {
        "id": "N-m2yQciSi-7"
      }
    },
    {
      "cell_type": "code",
      "execution_count": null,
      "metadata": {
        "id": "xpFhk3050iQG",
        "colab": {
          "base_uri": "https://localhost:8080/"
        },
        "outputId": "6ed73e0a-b874-4c6c-b9e3-1a8e18889bcc"
      },
      "outputs": [
        {
          "output_type": "execute_result",
          "data": {
            "text/plain": [
              "['Block_indexed',\n",
              " 'IUCR_indexed',\n",
              " 'Description_indexed',\n",
              " 'Location Description_indexed',\n",
              " 'Arrest_indexed',\n",
              " 'Domestic_indexed',\n",
              " 'Beat_indexed',\n",
              " 'District_indexed',\n",
              " 'Ward_indexed',\n",
              " 'Community Area_indexed',\n",
              " 'FBI Code_indexed',\n",
              " 'Year_indexed',\n",
              " 'Latitude_indexed',\n",
              " 'Longitude_indexed',\n",
              " 'Location_indexed',\n",
              " 'dayofweek_indexed',\n",
              " 'monthOfYear_indexed',\n",
              " 'dayofmonth_indexed',\n",
              " 'datediff_indexed']"
            ]
          },
          "metadata": {},
          "execution_count": 57
        }
      ],
      "source": [
        "crime_data_indexed_features = ['%s_indexed' % fc['feature'] for fc in feature_list_count]\n",
        "crime_data_indexed_features"
      ]
    },
    {
      "cell_type": "markdown",
      "metadata": {
        "id": "4IlTFws0_TUC"
      },
      "source": [
        "Merge multiple columns into a vector column using Vector assembler in order to train a machine learning model..​"
      ]
    },
    {
      "cell_type": "code",
      "execution_count": null,
      "metadata": {
        "id": "ywCm20m90qcW"
      },
      "outputs": [],
      "source": [
        "assembler = VectorAssembler(inputCols=crime_data_indexed_features, outputCol='features')\n",
        "vectorized_crime_data = assembler.transform(crime_data_features)"
      ]
    },
    {
      "cell_type": "code",
      "execution_count": null,
      "metadata": {
        "id": "UsO_jyUM0yFL",
        "colab": {
          "base_uri": "https://localhost:8080/"
        },
        "outputId": "bbc0c9e0-3c1d-4b0a-a633-9fa355252124"
      },
      "outputs": [
        {
          "output_type": "execute_result",
          "data": {
            "text/plain": [
              "[Row(features=DenseVector([2420.0, 0.0, 1.0, 1.0, 0.0, 1.0, 113.0, 7.0, 34.0, 19.0, 1.0, 0.0, 16217.0, 16733.0, 16215.0, 1.0, 4.0, 21.0, 108.0]))]"
            ]
          },
          "metadata": {},
          "execution_count": 59
        }
      ],
      "source": [
        "vectorized_crime_data.select('features').take(1)"
      ]
    },
    {
      "cell_type": "markdown",
      "metadata": {
        "id": "oFDrJWCS8Crr"
      },
      "source": [
        "**Developing Logistic Regression Model**"
      ]
    },
    {
      "cell_type": "markdown",
      "metadata": {
        "id": "fKimXN3o8Y_D"
      },
      "source": [
        "The data was split into training and test in the ratio 80:20 where 80% of the data was used for training the model and 20% was used for testing purposes."
      ]
    },
    {
      "cell_type": "code",
      "execution_count": null,
      "metadata": {
        "id": "qvgvEr5B052y"
      },
      "outputs": [],
      "source": [
        "train, test = vectorized_crime_data.randomSplit([0.8, 0.2])"
      ]
    },
    {
      "cell_type": "markdown",
      "metadata": {
        "id": "HsYEGMQB8RkZ"
      },
      "source": [
        "Import Logistic Regression for fitting the Machine Learning model"
      ]
    },
    {
      "cell_type": "code",
      "execution_count": null,
      "metadata": {
        "id": "hbHi0qqt08nt"
      },
      "outputs": [],
      "source": [
        "from pyspark.ml.classification import LogisticRegression"
      ]
    },
    {
      "cell_type": "markdown",
      "metadata": {
        "id": "tZTg_VIz8i8E"
      },
      "source": [
        "Build the logistic regression model by specifying the below parameters :\n",
        "\n",
        "response variable= Primary type of crime\n",
        "\n",
        "predictor variables= All the variables in the crime data\n",
        "\n",
        "family= multinomial."
      ]
    },
    {
      "cell_type": "code",
      "execution_count": null,
      "metadata": {
        "id": "Hl1Bi4GV0_7Q"
      },
      "outputs": [],
      "source": [
        "logisticRegression_model = LogisticRegression(labelCol='Primary_Type_Of_Crime_indexed', featuresCol='features', maxIter=10, family='multinomial')"
      ]
    },
    {
      "cell_type": "markdown",
      "metadata": {
        "id": "oZkc9mCh8q1E"
      },
      "source": [
        "Fit the Logistic regression model on a training dataset"
      ]
    },
    {
      "cell_type": "code",
      "execution_count": null,
      "metadata": {
        "id": "L-OLcVOX1DLj"
      },
      "outputs": [],
      "source": [
        "fittedModel = logisticRegression_model.fit(train)"
      ]
    },
    {
      "cell_type": "markdown",
      "metadata": {
        "id": "Y3atBQMN8uOE"
      },
      "source": [
        "Check the accuracy of the model"
      ]
    },
    {
      "cell_type": "code",
      "execution_count": null,
      "metadata": {
        "id": "_q4hR5lO-0v5",
        "colab": {
          "base_uri": "https://localhost:8080/"
        },
        "outputId": "2a852ed8-6949-40ee-cbb4-dc7d03ba7b2b"
      },
      "outputs": [
        {
          "output_type": "execute_result",
          "data": {
            "text/plain": [
              "0.6159731999805796"
            ]
          },
          "metadata": {},
          "execution_count": 64
        }
      ],
      "source": [
        "fittedModel.summary.accuracy"
      ]
    },
    {
      "cell_type": "markdown",
      "metadata": {
        "id": "88XQJNdbtUvp"
      },
      "source": [
        "Make the overall predictions on the test dataset.\n"
      ]
    },
    {
      "cell_type": "code",
      "execution_count": null,
      "metadata": {
        "id": "oFnKjmQvAi3d",
        "colab": {
          "base_uri": "https://localhost:8080/"
        },
        "outputId": "07233583-df0b-4dc7-e276-ad2464e885bb"
      },
      "outputs": [
        {
          "output_type": "stream",
          "name": "stdout",
          "text": [
            "+----------+-----------------------------+-------------------+\n",
            "|prediction|Primary_Type_Of_Crime_indexed|       Primary Type|\n",
            "+----------+-----------------------------+-------------------+\n",
            "|      11.0|                         18.0|           HOMICIDE|\n",
            "|       3.0|                          3.0|          NARCOTICS|\n",
            "|       3.0|                          3.0|          NARCOTICS|\n",
            "|      12.0|                         11.0|  WEAPONS VIOLATION|\n",
            "|       3.0|                          3.0|          NARCOTICS|\n",
            "|      16.0|                         19.0|              ARSON|\n",
            "|       9.0|                         16.0|CRIM SEXUAL ASSAULT|\n",
            "|       5.0|                          5.0|            ASSAULT|\n",
            "|       1.0|                          1.0|            BATTERY|\n",
            "|       1.0|                          1.0|            BATTERY|\n",
            "+----------+-----------------------------+-------------------+\n",
            "only showing top 10 rows\n",
            "\n"
          ]
        }
      ],
      "source": [
        "predictions = fittedModel.transform(test)\n",
        "predictions.select(\"prediction\",\"Primary_Type_Of_Crime_indexed\",\"Primary Type\").show(10)"
      ]
    }
  ],
  "metadata": {
    "colab": {
      "provenance": []
    },
    "kernelspec": {
      "display_name": "Python 3",
      "name": "python3"
    },
    "language_info": {
      "name": "python"
    }
  },
  "nbformat": 4,
  "nbformat_minor": 0
}